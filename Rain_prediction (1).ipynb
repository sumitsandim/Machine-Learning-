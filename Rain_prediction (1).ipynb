{
  "cells": [
    {
      "cell_type": "markdown",
      "source": [
        "## ***Australia Rain Prediction***\n",
        "\n",
        "\n"
      ],
      "metadata": {
        "id": "wDrx2ModCRZg"
      },
      "id": "wDrx2ModCRZg"
    },
    {
      "cell_type": "code",
      "execution_count": 133,
      "id": "a6319e2b",
      "metadata": {
        "colab": {
          "base_uri": "https://localhost:8080/",
          "height": 0
        },
        "id": "a6319e2b",
        "outputId": "60e74687-72df-49b5-cd3e-f6252636ff1b"
      },
      "outputs": [
        {
          "output_type": "stream",
          "name": "stdout",
          "text": [
            "Drive already mounted at /content/drive; to attempt to forcibly remount, call drive.mount(\"/content/drive\", force_remount=True).\n"
          ]
        }
      ],
      "source": [
        "\n",
        "from google .colab import drive\n",
        "drive.mount(\"/content/drive\")"
      ]
    },
    {
      "cell_type": "code",
      "source": [
        "import numpy as np\n",
        "import pandas as pd\n",
        "import matplotlib.pyplot as plt\n",
        "import seaborn as sns\n",
        "import warnings\n",
        "warnings.filterwarnings(\"ignore\")"
      ],
      "metadata": {
        "id": "VM913bKvisuB"
      },
      "id": "VM913bKvisuB",
      "execution_count": 134,
      "outputs": []
    },
    {
      "cell_type": "code",
      "source": [
        "df=pd.read_csv(\"/content/drive/MyDrive/Dataset/weatherAUS.csv\")"
      ],
      "metadata": {
        "id": "-vSa8fkxkbdb"
      },
      "id": "-vSa8fkxkbdb",
      "execution_count": 135,
      "outputs": []
    },
    {
      "cell_type": "code",
      "execution_count": 136,
      "id": "bc1cc8e0",
      "metadata": {
        "colab": {
          "base_uri": "https://localhost:8080/",
          "height": 386
        },
        "id": "bc1cc8e0",
        "outputId": "58aa3db3-d7cc-4d82-920e-644166d85751"
      },
      "outputs": [
        {
          "output_type": "execute_result",
          "data": {
            "text/plain": [
              "         Date Location  MinTemp  MaxTemp  Rainfall  Evaporation  Sunshine  \\\n",
              "0  2008-12-01   Albury     13.4     22.9       0.6          NaN       NaN   \n",
              "1  2008-12-02   Albury      7.4     25.1       0.0          NaN       NaN   \n",
              "2  2008-12-03   Albury     12.9     25.7       0.0          NaN       NaN   \n",
              "3  2008-12-04   Albury      9.2     28.0       0.0          NaN       NaN   \n",
              "4  2008-12-05   Albury     17.5     32.3       1.0          NaN       NaN   \n",
              "\n",
              "  WindGustDir  WindGustSpeed WindDir9am  ... Humidity9am  Humidity3pm  \\\n",
              "0           W           44.0          W  ...        71.0         22.0   \n",
              "1         WNW           44.0        NNW  ...        44.0         25.0   \n",
              "2         WSW           46.0          W  ...        38.0         30.0   \n",
              "3          NE           24.0         SE  ...        45.0         16.0   \n",
              "4           W           41.0        ENE  ...        82.0         33.0   \n",
              "\n",
              "   Pressure9am  Pressure3pm  Cloud9am  Cloud3pm  Temp9am  Temp3pm  RainToday  \\\n",
              "0       1007.7       1007.1       8.0       NaN     16.9     21.8         No   \n",
              "1       1010.6       1007.8       NaN       NaN     17.2     24.3         No   \n",
              "2       1007.6       1008.7       NaN       2.0     21.0     23.2         No   \n",
              "3       1017.6       1012.8       NaN       NaN     18.1     26.5         No   \n",
              "4       1010.8       1006.0       7.0       8.0     17.8     29.7         No   \n",
              "\n",
              "   RainTomorrow  \n",
              "0            No  \n",
              "1            No  \n",
              "2            No  \n",
              "3            No  \n",
              "4            No  \n",
              "\n",
              "[5 rows x 23 columns]"
            ],
            "text/html": [
              "\n",
              "  <div id=\"df-229a52b7-83ad-466c-97b5-4951f9fd96ef\">\n",
              "    <div class=\"colab-df-container\">\n",
              "      <div>\n",
              "<style scoped>\n",
              "    .dataframe tbody tr th:only-of-type {\n",
              "        vertical-align: middle;\n",
              "    }\n",
              "\n",
              "    .dataframe tbody tr th {\n",
              "        vertical-align: top;\n",
              "    }\n",
              "\n",
              "    .dataframe thead th {\n",
              "        text-align: right;\n",
              "    }\n",
              "</style>\n",
              "<table border=\"1\" class=\"dataframe\">\n",
              "  <thead>\n",
              "    <tr style=\"text-align: right;\">\n",
              "      <th></th>\n",
              "      <th>Date</th>\n",
              "      <th>Location</th>\n",
              "      <th>MinTemp</th>\n",
              "      <th>MaxTemp</th>\n",
              "      <th>Rainfall</th>\n",
              "      <th>Evaporation</th>\n",
              "      <th>Sunshine</th>\n",
              "      <th>WindGustDir</th>\n",
              "      <th>WindGustSpeed</th>\n",
              "      <th>WindDir9am</th>\n",
              "      <th>...</th>\n",
              "      <th>Humidity9am</th>\n",
              "      <th>Humidity3pm</th>\n",
              "      <th>Pressure9am</th>\n",
              "      <th>Pressure3pm</th>\n",
              "      <th>Cloud9am</th>\n",
              "      <th>Cloud3pm</th>\n",
              "      <th>Temp9am</th>\n",
              "      <th>Temp3pm</th>\n",
              "      <th>RainToday</th>\n",
              "      <th>RainTomorrow</th>\n",
              "    </tr>\n",
              "  </thead>\n",
              "  <tbody>\n",
              "    <tr>\n",
              "      <th>0</th>\n",
              "      <td>2008-12-01</td>\n",
              "      <td>Albury</td>\n",
              "      <td>13.4</td>\n",
              "      <td>22.9</td>\n",
              "      <td>0.6</td>\n",
              "      <td>NaN</td>\n",
              "      <td>NaN</td>\n",
              "      <td>W</td>\n",
              "      <td>44.0</td>\n",
              "      <td>W</td>\n",
              "      <td>...</td>\n",
              "      <td>71.0</td>\n",
              "      <td>22.0</td>\n",
              "      <td>1007.7</td>\n",
              "      <td>1007.1</td>\n",
              "      <td>8.0</td>\n",
              "      <td>NaN</td>\n",
              "      <td>16.9</td>\n",
              "      <td>21.8</td>\n",
              "      <td>No</td>\n",
              "      <td>No</td>\n",
              "    </tr>\n",
              "    <tr>\n",
              "      <th>1</th>\n",
              "      <td>2008-12-02</td>\n",
              "      <td>Albury</td>\n",
              "      <td>7.4</td>\n",
              "      <td>25.1</td>\n",
              "      <td>0.0</td>\n",
              "      <td>NaN</td>\n",
              "      <td>NaN</td>\n",
              "      <td>WNW</td>\n",
              "      <td>44.0</td>\n",
              "      <td>NNW</td>\n",
              "      <td>...</td>\n",
              "      <td>44.0</td>\n",
              "      <td>25.0</td>\n",
              "      <td>1010.6</td>\n",
              "      <td>1007.8</td>\n",
              "      <td>NaN</td>\n",
              "      <td>NaN</td>\n",
              "      <td>17.2</td>\n",
              "      <td>24.3</td>\n",
              "      <td>No</td>\n",
              "      <td>No</td>\n",
              "    </tr>\n",
              "    <tr>\n",
              "      <th>2</th>\n",
              "      <td>2008-12-03</td>\n",
              "      <td>Albury</td>\n",
              "      <td>12.9</td>\n",
              "      <td>25.7</td>\n",
              "      <td>0.0</td>\n",
              "      <td>NaN</td>\n",
              "      <td>NaN</td>\n",
              "      <td>WSW</td>\n",
              "      <td>46.0</td>\n",
              "      <td>W</td>\n",
              "      <td>...</td>\n",
              "      <td>38.0</td>\n",
              "      <td>30.0</td>\n",
              "      <td>1007.6</td>\n",
              "      <td>1008.7</td>\n",
              "      <td>NaN</td>\n",
              "      <td>2.0</td>\n",
              "      <td>21.0</td>\n",
              "      <td>23.2</td>\n",
              "      <td>No</td>\n",
              "      <td>No</td>\n",
              "    </tr>\n",
              "    <tr>\n",
              "      <th>3</th>\n",
              "      <td>2008-12-04</td>\n",
              "      <td>Albury</td>\n",
              "      <td>9.2</td>\n",
              "      <td>28.0</td>\n",
              "      <td>0.0</td>\n",
              "      <td>NaN</td>\n",
              "      <td>NaN</td>\n",
              "      <td>NE</td>\n",
              "      <td>24.0</td>\n",
              "      <td>SE</td>\n",
              "      <td>...</td>\n",
              "      <td>45.0</td>\n",
              "      <td>16.0</td>\n",
              "      <td>1017.6</td>\n",
              "      <td>1012.8</td>\n",
              "      <td>NaN</td>\n",
              "      <td>NaN</td>\n",
              "      <td>18.1</td>\n",
              "      <td>26.5</td>\n",
              "      <td>No</td>\n",
              "      <td>No</td>\n",
              "    </tr>\n",
              "    <tr>\n",
              "      <th>4</th>\n",
              "      <td>2008-12-05</td>\n",
              "      <td>Albury</td>\n",
              "      <td>17.5</td>\n",
              "      <td>32.3</td>\n",
              "      <td>1.0</td>\n",
              "      <td>NaN</td>\n",
              "      <td>NaN</td>\n",
              "      <td>W</td>\n",
              "      <td>41.0</td>\n",
              "      <td>ENE</td>\n",
              "      <td>...</td>\n",
              "      <td>82.0</td>\n",
              "      <td>33.0</td>\n",
              "      <td>1010.8</td>\n",
              "      <td>1006.0</td>\n",
              "      <td>7.0</td>\n",
              "      <td>8.0</td>\n",
              "      <td>17.8</td>\n",
              "      <td>29.7</td>\n",
              "      <td>No</td>\n",
              "      <td>No</td>\n",
              "    </tr>\n",
              "  </tbody>\n",
              "</table>\n",
              "<p>5 rows × 23 columns</p>\n",
              "</div>\n",
              "      <button class=\"colab-df-convert\" onclick=\"convertToInteractive('df-229a52b7-83ad-466c-97b5-4951f9fd96ef')\"\n",
              "              title=\"Convert this dataframe to an interactive table.\"\n",
              "              style=\"display:none;\">\n",
              "        \n",
              "  <svg xmlns=\"http://www.w3.org/2000/svg\" height=\"24px\"viewBox=\"0 0 24 24\"\n",
              "       width=\"24px\">\n",
              "    <path d=\"M0 0h24v24H0V0z\" fill=\"none\"/>\n",
              "    <path d=\"M18.56 5.44l.94 2.06.94-2.06 2.06-.94-2.06-.94-.94-2.06-.94 2.06-2.06.94zm-11 1L8.5 8.5l.94-2.06 2.06-.94-2.06-.94L8.5 2.5l-.94 2.06-2.06.94zm10 10l.94 2.06.94-2.06 2.06-.94-2.06-.94-.94-2.06-.94 2.06-2.06.94z\"/><path d=\"M17.41 7.96l-1.37-1.37c-.4-.4-.92-.59-1.43-.59-.52 0-1.04.2-1.43.59L10.3 9.45l-7.72 7.72c-.78.78-.78 2.05 0 2.83L4 21.41c.39.39.9.59 1.41.59.51 0 1.02-.2 1.41-.59l7.78-7.78 2.81-2.81c.8-.78.8-2.07 0-2.86zM5.41 20L4 18.59l7.72-7.72 1.47 1.35L5.41 20z\"/>\n",
              "  </svg>\n",
              "      </button>\n",
              "      \n",
              "  <style>\n",
              "    .colab-df-container {\n",
              "      display:flex;\n",
              "      flex-wrap:wrap;\n",
              "      gap: 12px;\n",
              "    }\n",
              "\n",
              "    .colab-df-convert {\n",
              "      background-color: #E8F0FE;\n",
              "      border: none;\n",
              "      border-radius: 50%;\n",
              "      cursor: pointer;\n",
              "      display: none;\n",
              "      fill: #1967D2;\n",
              "      height: 32px;\n",
              "      padding: 0 0 0 0;\n",
              "      width: 32px;\n",
              "    }\n",
              "\n",
              "    .colab-df-convert:hover {\n",
              "      background-color: #E2EBFA;\n",
              "      box-shadow: 0px 1px 2px rgba(60, 64, 67, 0.3), 0px 1px 3px 1px rgba(60, 64, 67, 0.15);\n",
              "      fill: #174EA6;\n",
              "    }\n",
              "\n",
              "    [theme=dark] .colab-df-convert {\n",
              "      background-color: #3B4455;\n",
              "      fill: #D2E3FC;\n",
              "    }\n",
              "\n",
              "    [theme=dark] .colab-df-convert:hover {\n",
              "      background-color: #434B5C;\n",
              "      box-shadow: 0px 1px 3px 1px rgba(0, 0, 0, 0.15);\n",
              "      filter: drop-shadow(0px 1px 2px rgba(0, 0, 0, 0.3));\n",
              "      fill: #FFFFFF;\n",
              "    }\n",
              "  </style>\n",
              "\n",
              "      <script>\n",
              "        const buttonEl =\n",
              "          document.querySelector('#df-229a52b7-83ad-466c-97b5-4951f9fd96ef button.colab-df-convert');\n",
              "        buttonEl.style.display =\n",
              "          google.colab.kernel.accessAllowed ? 'block' : 'none';\n",
              "\n",
              "        async function convertToInteractive(key) {\n",
              "          const element = document.querySelector('#df-229a52b7-83ad-466c-97b5-4951f9fd96ef');\n",
              "          const dataTable =\n",
              "            await google.colab.kernel.invokeFunction('convertToInteractive',\n",
              "                                                     [key], {});\n",
              "          if (!dataTable) return;\n",
              "\n",
              "          const docLinkHtml = 'Like what you see? Visit the ' +\n",
              "            '<a target=\"_blank\" href=https://colab.research.google.com/notebooks/data_table.ipynb>data table notebook</a>'\n",
              "            + ' to learn more about interactive tables.';\n",
              "          element.innerHTML = '';\n",
              "          dataTable['output_type'] = 'display_data';\n",
              "          await google.colab.output.renderOutput(dataTable, element);\n",
              "          const docLink = document.createElement('div');\n",
              "          docLink.innerHTML = docLinkHtml;\n",
              "          element.appendChild(docLink);\n",
              "        }\n",
              "      </script>\n",
              "    </div>\n",
              "  </div>\n",
              "  "
            ]
          },
          "metadata": {},
          "execution_count": 136
        }
      ],
      "source": [
        "df.head()"
      ]
    },
    {
      "cell_type": "code",
      "execution_count": 137,
      "id": "70e2de2c",
      "metadata": {
        "colab": {
          "base_uri": "https://localhost:8080/",
          "height": 0
        },
        "id": "70e2de2c",
        "outputId": "094b5999-2e5c-4286-c9d5-85a552f9377a"
      },
      "outputs": [
        {
          "output_type": "execute_result",
          "data": {
            "text/plain": [
              "Date              0.000000\n",
              "Location          0.000000\n",
              "MinTemp           1.020899\n",
              "MaxTemp           0.866905\n",
              "Rainfall          2.241853\n",
              "Evaporation      43.166506\n",
              "Sunshine         48.009762\n",
              "WindGustDir       7.098859\n",
              "WindGustSpeed     7.055548\n",
              "WindDir9am        7.263853\n",
              "WindDir3pm        2.906641\n",
              "WindSpeed9am      1.214767\n",
              "WindSpeed3pm      2.105046\n",
              "Humidity9am       1.824557\n",
              "Humidity3pm       3.098446\n",
              "Pressure9am      10.356799\n",
              "Pressure3pm      10.331363\n",
              "Cloud9am         38.421559\n",
              "Cloud3pm         40.807095\n",
              "Temp9am           1.214767\n",
              "Temp3pm           2.481094\n",
              "RainToday         2.241853\n",
              "RainTomorrow      2.245978\n",
              "dtype: float64"
            ]
          },
          "metadata": {},
          "execution_count": 137
        }
      ],
      "source": [
        "df.isnull().sum()/len(df)*100"
      ]
    },
    {
      "cell_type": "code",
      "execution_count": 138,
      "id": "2a2669c4",
      "metadata": {
        "colab": {
          "base_uri": "https://localhost:8080/",
          "height": 0
        },
        "id": "2a2669c4",
        "outputId": "2c468c80-9d3c-472e-e97c-3136329d793d"
      },
      "outputs": [
        {
          "output_type": "execute_result",
          "data": {
            "text/plain": [
              "Canberra            3436\n",
              "Sydney              3344\n",
              "Darwin              3193\n",
              "Melbourne           3193\n",
              "Brisbane            3193\n",
              "Adelaide            3193\n",
              "Perth               3193\n",
              "Hobart              3193\n",
              "Albany              3040\n",
              "MountGambier        3040\n",
              "Ballarat            3040\n",
              "Townsville          3040\n",
              "GoldCoast           3040\n",
              "Cairns              3040\n",
              "Launceston          3040\n",
              "AliceSprings        3040\n",
              "Bendigo             3040\n",
              "Albury              3040\n",
              "MountGinini         3040\n",
              "Wollongong          3040\n",
              "Newcastle           3039\n",
              "Tuggeranong         3039\n",
              "Penrith             3039\n",
              "Woomera             3009\n",
              "Nuriootpa           3009\n",
              "Cobar               3009\n",
              "CoffsHarbour        3009\n",
              "Moree               3009\n",
              "Sale                3009\n",
              "PerthAirport        3009\n",
              "PearceRAAF          3009\n",
              "Witchcliffe         3009\n",
              "BadgerysCreek       3009\n",
              "Mildura             3009\n",
              "NorfolkIsland       3009\n",
              "MelbourneAirport    3009\n",
              "Richmond            3009\n",
              "SydneyAirport       3009\n",
              "WaggaWagga          3009\n",
              "Williamtown         3009\n",
              "Dartmoor            3009\n",
              "Watsonia            3009\n",
              "Portland            3009\n",
              "Walpole             3006\n",
              "NorahHead           3004\n",
              "SalmonGums          3001\n",
              "Katherine           1578\n",
              "Nhil                1578\n",
              "Uluru               1578\n",
              "Name: Location, dtype: int64"
            ]
          },
          "metadata": {},
          "execution_count": 138
        }
      ],
      "source": [
        "df[\"Location\"].value_counts()"
      ]
    },
    {
      "cell_type": "code",
      "execution_count": 139,
      "id": "f4bd9c32",
      "metadata": {
        "colab": {
          "base_uri": "https://localhost:8080/",
          "height": 0
        },
        "id": "f4bd9c32",
        "outputId": "9930f6e3-0ebe-4777-fba9-029d9c046d09"
      },
      "outputs": [
        {
          "output_type": "execute_result",
          "data": {
            "text/plain": [
              "0         False\n",
              "1          True\n",
              "2          True\n",
              "3          True\n",
              "4          True\n",
              "          ...  \n",
              "145455     True\n",
              "145456     True\n",
              "145457     True\n",
              "145458     True\n",
              "145459     True\n",
              "Name: Location, Length: 145460, dtype: bool"
            ]
          },
          "metadata": {},
          "execution_count": 139
        }
      ],
      "source": [
        "df[\"Location\"].duplicated()"
      ]
    },
    {
      "cell_type": "code",
      "execution_count": 139,
      "id": "30ba5f84",
      "metadata": {
        "id": "30ba5f84"
      },
      "outputs": [],
      "source": []
    },
    {
      "cell_type": "code",
      "execution_count": 140,
      "id": "a7da2041",
      "metadata": {
        "colab": {
          "base_uri": "https://localhost:8080/",
          "height": 0
        },
        "id": "a7da2041",
        "outputId": "5eebecf8-07b5-45cd-8c74-82c40ef6375d"
      },
      "outputs": [
        {
          "output_type": "execute_result",
          "data": {
            "text/plain": [
              "Index(['MinTemp', 'MaxTemp', 'Rainfall', 'Evaporation', 'Sunshine',\n",
              "       'WindGustSpeed', 'WindSpeed9am', 'WindSpeed3pm', 'Humidity9am',\n",
              "       'Humidity3pm', 'Pressure9am', 'Pressure3pm', 'Cloud9am', 'Cloud3pm',\n",
              "       'Temp9am', 'Temp3pm'],\n",
              "      dtype='object')"
            ]
          },
          "metadata": {},
          "execution_count": 140
        }
      ],
      "source": [
        "n_cols=df.select_dtypes(include=['int','float']).columns\n",
        "n_cols"
      ]
    },
    {
      "cell_type": "code",
      "execution_count": 141,
      "id": "8ae9b8c9",
      "metadata": {
        "colab": {
          "base_uri": "https://localhost:8080/",
          "height": 0
        },
        "id": "8ae9b8c9",
        "outputId": "98da2967-bf5e-42fd-8dae-8846e51e7f01"
      },
      "outputs": [
        {
          "output_type": "execute_result",
          "data": {
            "text/plain": [
              "Index(['Date', 'Location', 'WindGustDir', 'WindDir9am', 'WindDir3pm',\n",
              "       'RainToday', 'RainTomorrow'],\n",
              "      dtype='object')"
            ]
          },
          "metadata": {},
          "execution_count": 141
        }
      ],
      "source": [
        "c_cols=df.select_dtypes(include=['object']).columns\n",
        "c_cols"
      ]
    },
    {
      "cell_type": "code",
      "execution_count": 142,
      "id": "21dad6cd",
      "metadata": {
        "colab": {
          "base_uri": "https://localhost:8080/",
          "height": 0
        },
        "id": "21dad6cd",
        "outputId": "57bc81fc-b7aa-48ba-da93-c92b44114516"
      },
      "outputs": [
        {
          "output_type": "stream",
          "name": "stdout",
          "text": [
            "Date 0\n",
            "Location 0\n",
            "WindGustDir 10326\n",
            "WindDir9am 10566\n",
            "WindDir3pm 4228\n",
            "RainToday 3261\n",
            "RainTomorrow 3267\n"
          ]
        }
      ],
      "source": [
        "for i in c_cols:\n",
        "    print(i, df[i].isnull().sum())"
      ]
    },
    {
      "cell_type": "code",
      "execution_count": 143,
      "id": "1d178896",
      "metadata": {
        "id": "1d178896"
      },
      "outputs": [],
      "source": [
        "for i in c_cols:\n",
        "    df[i].fillna(df[i].mode()[0], inplace=True)"
      ]
    },
    {
      "cell_type": "code",
      "execution_count": 144,
      "id": "3be32a60",
      "metadata": {
        "colab": {
          "base_uri": "https://localhost:8080/",
          "height": 0
        },
        "id": "3be32a60",
        "outputId": "3c6fb39c-ad8f-43df-a3e7-5ad8e333eee6"
      },
      "outputs": [
        {
          "output_type": "stream",
          "name": "stdout",
          "text": [
            "MinTemp 1485\n",
            "MaxTemp 1261\n",
            "Rainfall 3261\n",
            "Evaporation 62790\n",
            "Sunshine 69835\n",
            "WindGustSpeed 10263\n",
            "WindSpeed9am 1767\n",
            "WindSpeed3pm 3062\n",
            "Humidity9am 2654\n",
            "Humidity3pm 4507\n",
            "Pressure9am 15065\n",
            "Pressure3pm 15028\n",
            "Cloud9am 55888\n",
            "Cloud3pm 59358\n",
            "Temp9am 1767\n",
            "Temp3pm 3609\n"
          ]
        }
      ],
      "source": [
        "for i in n_cols:\n",
        "    print(i, df[i].isnull().sum())"
      ]
    },
    {
      "cell_type": "code",
      "execution_count": 145,
      "id": "d4963e2d",
      "metadata": {
        "id": "d4963e2d"
      },
      "outputs": [],
      "source": [
        "for i in n_cols:\n",
        "    df[i].fillna(df[i].median(), inplace=True)"
      ]
    },
    {
      "cell_type": "code",
      "execution_count": 146,
      "id": "a9eecec4",
      "metadata": {
        "colab": {
          "base_uri": "https://localhost:8080/",
          "height": 0
        },
        "id": "a9eecec4",
        "outputId": "a79fd9ca-34d5-457a-e2f9-b3cdcd8a9e63"
      },
      "outputs": [
        {
          "output_type": "execute_result",
          "data": {
            "text/plain": [
              "Date             0\n",
              "Location         0\n",
              "MinTemp          0\n",
              "MaxTemp          0\n",
              "Rainfall         0\n",
              "Evaporation      0\n",
              "Sunshine         0\n",
              "WindGustDir      0\n",
              "WindGustSpeed    0\n",
              "WindDir9am       0\n",
              "WindDir3pm       0\n",
              "WindSpeed9am     0\n",
              "WindSpeed3pm     0\n",
              "Humidity9am      0\n",
              "Humidity3pm      0\n",
              "Pressure9am      0\n",
              "Pressure3pm      0\n",
              "Cloud9am         0\n",
              "Cloud3pm         0\n",
              "Temp9am          0\n",
              "Temp3pm          0\n",
              "RainToday        0\n",
              "RainTomorrow     0\n",
              "dtype: int64"
            ]
          },
          "metadata": {},
          "execution_count": 146
        }
      ],
      "source": [
        "df.isnull().sum()"
      ]
    },
    {
      "cell_type": "code",
      "execution_count": 147,
      "id": "3d5b912c",
      "metadata": {
        "colab": {
          "base_uri": "https://localhost:8080/",
          "height": 0
        },
        "id": "3d5b912c",
        "outputId": "d653d7e4-0e9b-48fa-aba4-c0aec02ba579"
      },
      "outputs": [
        {
          "output_type": "stream",
          "name": "stdout",
          "text": [
            "<class 'pandas.core.frame.DataFrame'>\n",
            "RangeIndex: 145460 entries, 0 to 145459\n",
            "Data columns (total 23 columns):\n",
            " #   Column         Non-Null Count   Dtype  \n",
            "---  ------         --------------   -----  \n",
            " 0   Date           145460 non-null  object \n",
            " 1   Location       145460 non-null  object \n",
            " 2   MinTemp        145460 non-null  float64\n",
            " 3   MaxTemp        145460 non-null  float64\n",
            " 4   Rainfall       145460 non-null  float64\n",
            " 5   Evaporation    145460 non-null  float64\n",
            " 6   Sunshine       145460 non-null  float64\n",
            " 7   WindGustDir    145460 non-null  object \n",
            " 8   WindGustSpeed  145460 non-null  float64\n",
            " 9   WindDir9am     145460 non-null  object \n",
            " 10  WindDir3pm     145460 non-null  object \n",
            " 11  WindSpeed9am   145460 non-null  float64\n",
            " 12  WindSpeed3pm   145460 non-null  float64\n",
            " 13  Humidity9am    145460 non-null  float64\n",
            " 14  Humidity3pm    145460 non-null  float64\n",
            " 15  Pressure9am    145460 non-null  float64\n",
            " 16  Pressure3pm    145460 non-null  float64\n",
            " 17  Cloud9am       145460 non-null  float64\n",
            " 18  Cloud3pm       145460 non-null  float64\n",
            " 19  Temp9am        145460 non-null  float64\n",
            " 20  Temp3pm        145460 non-null  float64\n",
            " 21  RainToday      145460 non-null  object \n",
            " 22  RainTomorrow   145460 non-null  object \n",
            "dtypes: float64(16), object(7)\n",
            "memory usage: 25.5+ MB\n"
          ]
        }
      ],
      "source": [
        "df.info()"
      ]
    },
    {
      "cell_type": "code",
      "execution_count": 148,
      "id": "8991caeb",
      "metadata": {
        "colab": {
          "base_uri": "https://localhost:8080/",
          "height": 296
        },
        "id": "8991caeb",
        "outputId": "6d33cb3d-f261-4b15-f56e-1bcf3adbe8d8"
      },
      "outputs": [
        {
          "output_type": "execute_result",
          "data": {
            "text/plain": [
              "<AxesSubplot:xlabel='RainTomorrow', ylabel='count'>"
            ]
          },
          "metadata": {},
          "execution_count": 148
        },
        {
          "output_type": "display_data",
          "data": {
            "text/plain": [
              "<Figure size 432x288 with 1 Axes>"
            ],
            "image/png": "[encoded data removed]"
          },
          "metadata": {}
        }
      ],
      "source": [
        "sns.countplot(df.RainTomorrow)"
      ]
    },
    {
      "cell_type": "code",
      "execution_count": 149,
      "id": "6eec881e",
      "metadata": {
        "id": "6eec881e"
      },
      "outputs": [],
      "source": [
        "#Dataset is imbalanced"
      ]
    },
    {
      "cell_type": "markdown",
      "id": "bb5956aa",
      "metadata": {
        "id": "bb5956aa"
      },
      "source": [
        "# What is the Relationship between Windspeed vs Humididty ?"
      ]
    },
    {
      "cell_type": "code",
      "execution_count": 152,
      "id": "8de9a2c4",
      "metadata": {
        "colab": {
          "base_uri": "https://localhost:8080/",
          "height": 361
        },
        "id": "8de9a2c4",
        "outputId": "21ffffc5-1931-47fd-ad52-69bc410a287f"
      },
      "outputs": [
        {
          "output_type": "display_data",
          "data": {
            "text/plain": [
              "<Figure size 720x360 with 1 Axes>"
            ],
            "image/png": "[encoded data removed]"
          },
          "metadata": {}
        }
      ],
      "source": [
        "sns.set_style(style=\"whitegrid\")\n",
        "fig_dims= (10,5)\n",
        "fig, ax=plt.subplots(figsize = fig_dims)\n",
        "fig=sns.lineplot(y=df[\"WindSpeed9am\"],x=df[\"Humidity9am\"],ax=ax).set(title=\"Winspeed vs Humididty\")\n",
        "plt.xticks(rotation=60)\n",
        "plt.show()"
      ]
    },
    {
      "cell_type": "markdown",
      "id": "69e4f846",
      "metadata": {
        "id": "69e4f846"
      },
      "source": [
        "# Windspeed is inversely proportional to as Humidity increases windspeed decreases"
      ]
    },
    {
      "cell_type": "markdown",
      "id": "9080ac10",
      "metadata": {
        "id": "9080ac10"
      },
      "source": [
        "# What is the Relationship between Windspeed and Pressure ?"
      ]
    },
    {
      "cell_type": "code",
      "execution_count": 153,
      "id": "40976b58",
      "metadata": {
        "colab": {
          "base_uri": "https://localhost:8080/",
          "height": 638
        },
        "id": "40976b58",
        "outputId": "1311df0a-7cef-4c5a-dc14-d60d236bbc60"
      },
      "outputs": [
        {
          "output_type": "display_data",
          "data": {
            "text/plain": [
              "<Figure size 720x720 with 1 Axes>"
            ],
            "image/png": "[encoded data removed]"
          },
          "metadata": {}
        }
      ],
      "source": [
        "fig_dims= (10,10)\n",
        "fig, ax=plt.subplots(figsize = fig_dims)\n",
        "fig=sns.lineplot(x=df[\"Pressure3pm\"],y=df[\"WindSpeed3pm\"],ax=ax).set(title=\"Winspeed vs pressure\")\n",
        "plt.xticks(rotation=60)\n",
        "plt.show()"
      ]
    },
    {
      "cell_type": "markdown",
      "id": "969629a2",
      "metadata": {
        "id": "969629a2"
      },
      "source": [
        "# Windspeed is inversely proportional to pressure. As prerssure increases windspeed decreases.\n",
        "# windspeed is maximum when pressure is between in 990-1000\n"
      ]
    },
    {
      "cell_type": "markdown",
      "id": "fc3ffe14",
      "metadata": {
        "id": "fc3ffe14"
      },
      "source": [
        "\n",
        "# What is relationship between cloud and temperature ?"
      ]
    },
    {
      "cell_type": "code",
      "execution_count": 154,
      "id": "f4ee9e1a",
      "metadata": {
        "colab": {
          "base_uri": "https://localhost:8080/",
          "height": 622
        },
        "id": "f4ee9e1a",
        "outputId": "9d6d3952-27f7-4ff2-8515-17634d78700f"
      },
      "outputs": [
        {
          "output_type": "display_data",
          "data": {
            "text/plain": [
              "<Figure size 720x720 with 1 Axes>"
            ],
            "image/png": "[encoded data removed]"
          },
          "metadata": {}
        }
      ],
      "source": [
        "fig_dims= (10,10)\n",
        "fig, ax=plt.subplots(figsize = fig_dims)\n",
        "fig=sns.lineplot(x=df[\"Cloud9am\"],y=df[\"Temp9am\"],ax=ax).set(title=\"Cloud vs Temperature\")\n",
        "plt.xticks(rotation=60)\n",
        "plt.show()"
      ]
    },
    {
      "cell_type": "markdown",
      "id": "daff0b6d",
      "metadata": {
        "id": "daff0b6d"
      },
      "source": [
        "# As no. of clouds increases in sky Temperature decreases "
      ]
    },
    {
      "cell_type": "code",
      "execution_count": 155,
      "id": "42a321f0",
      "metadata": {
        "id": "42a321f0"
      },
      "outputs": [],
      "source": [
        "from sklearn.preprocessing import LabelEncoder\n",
        "label_encoder = LabelEncoder()\n",
        "for i in c_cols:\n",
        "    df[i] = label_encoder.fit_transform(df[i])"
      ]
    },
    {
      "cell_type": "code",
      "execution_count": 156,
      "id": "7848806b",
      "metadata": {
        "id": "7848806b"
      },
      "outputs": [],
      "source": [
        "X=df.drop([\"RainTomorrow\",\"Date\"],axis=1)\n",
        "y=df[\"RainTomorrow\"]          "
      ]
    },
    {
      "cell_type": "code",
      "execution_count": 157,
      "id": "f65785cc",
      "metadata": {
        "id": "f65785cc"
      },
      "outputs": [],
      "source": [
        "col_names = list(X.columns)\n",
        "from sklearn.preprocessing import StandardScaler\n",
        "sc=StandardScaler()\n",
        "X=sc.fit_transform(X)\n",
        "X= pd.DataFrame(X, columns=col_names)\n"
      ]
    },
    {
      "cell_type": "code",
      "execution_count": 158,
      "id": "88631fab",
      "metadata": {
        "colab": {
          "base_uri": "https://localhost:8080/",
          "height": 641
        },
        "id": "88631fab",
        "outputId": "24ce182e-7e98-4258-8a46-cdb546e5b4dc"
      },
      "outputs": [
        {
          "output_type": "display_data",
          "data": {
            "text/plain": [
              "<Figure size 1440x720 with 1 Axes>"
            ],
            "image/png": "[encoded data removed]"
          },
          "metadata": {}
        }
      ],
      "source": [
        "plt.figure(figsize=(20,10))\n",
        "sns.boxenplot(data =X)\n",
        "plt.xticks(rotation=90)\n",
        "plt.show()"
      ]
    },
    {
      "cell_type": "code",
      "execution_count": 159,
      "id": "d5d2c256",
      "metadata": {
        "id": "d5d2c256"
      },
      "outputs": [],
      "source": [
        "X[\"RainTommorow\"]=y"
      ]
    },
    {
      "cell_type": "markdown",
      "id": "302bbfef",
      "metadata": {
        "id": "302bbfef"
      },
      "source": [
        "# Removing Outliers "
      ]
    },
    {
      "cell_type": "code",
      "execution_count": 160,
      "id": "f16eaef4",
      "metadata": {
        "colab": {
          "base_uri": "https://localhost:8080/",
          "height": 0
        },
        "id": "f16eaef4",
        "outputId": "9925cd24-7380-4d22-c438-b22e577ad7ec"
      },
      "outputs": [
        {
          "output_type": "execute_result",
          "data": {
            "text/plain": [
              "(127536, 22)"
            ]
          },
          "metadata": {},
          "execution_count": 160
        }
      ],
      "source": [
        "X = X[(X[\"MinTemp\"]<2.3)&(X[\"MinTemp\"]>-2.3)]\n",
        "X = X[(X[\"MaxTemp\"]<2.3)&(X[\"MaxTemp\"]>-2)]\n",
        "X = X[(X[\"Rainfall\"]<4.5)]\n",
        "X = X[(X[\"Evaporation\"]<2.8)]\n",
        "X = X[(X[\"Sunshine\"]<2.1)]\n",
        "X = X[(X[\"WindGustSpeed\"]<4)&(X[\"WindGustSpeed\"]>-4)]\n",
        "X = X[(X[\"WindSpeed9am\"]<4)]\n",
        "X = X[(X[\"WindSpeed3pm\"]<2.5)]\n",
        "X = X[(X[\"Humidity9am\"]>-3)]\n",
        "X = X[(X[\"Humidity3pm\"]>-2.2)]\n",
        "X = X[(X[\"Pressure9am\"]< 2)&(X[\"Pressure9am\"]>-2.7)]\n",
        "X = X[(X[\"Pressure3pm\"]< 2)&(X[\"Pressure3pm\"]>-2.7)]\n",
        "X = X[(X[\"Cloud9am\"]<1.8)]\n",
        "X = X[(X[\"Cloud3pm\"]<2)]\n",
        "X = X[(X[\"Temp9am\"]<2.3)&(X[\"Temp9am\"]>-2)]\n",
        "X = X[(X[\"Temp3pm\"]<2.3)&(X[\"Temp3pm\"]>-2)]\n",
        "X.shape"
      ]
    },
    {
      "cell_type": "code",
      "execution_count": 161,
      "id": "fab3a03f",
      "metadata": {
        "colab": {
          "base_uri": "https://localhost:8080/",
          "height": 639
        },
        "id": "fab3a03f",
        "outputId": "2f8809a1-ebd3-4f7a-948d-103fe6976ec4"
      },
      "outputs": [
        {
          "output_type": "display_data",
          "data": {
            "text/plain": [
              "<Figure size 1440x720 with 1 Axes>"
            ],
            "image/png": "[encoded data removed]"
          },
          "metadata": {}
        }
      ],
      "source": [
        "plt.figure(figsize=(20,10))\n",
        "sns.boxenplot(data = X)\n",
        "plt.xticks(rotation=90)\n",
        "plt.show()"
      ]
    },
    {
      "cell_type": "markdown",
      "id": "f76f6268",
      "metadata": {
        "id": "f76f6268"
      },
      "source": [
        "#  MODEL BUILDING \n"
      ]
    },
    {
      "cell_type": "code",
      "execution_count": 162,
      "id": "caf04015",
      "metadata": {
        "id": "caf04015"
      },
      "outputs": [],
      "source": [
        "x=X.drop([\"RainTommorow\"],axis=1)\n",
        "y=X[\"RainTommorow\"]"
      ]
    },
    {
      "cell_type": "code",
      "execution_count": 163,
      "id": "c98f5463",
      "metadata": {
        "id": "c98f5463"
      },
      "outputs": [],
      "source": [
        "#from imblearn.over_sampling import SMOTE\n",
        "#sm=SMOTE(sampling_strategy=\"auto\")\n",
        "#X,y=sm.fit_resample(x,y)"
      ]
    },
    {
      "cell_type": "code",
      "execution_count": 164,
      "id": "23b897bb",
      "metadata": {
        "id": "23b897bb"
      },
      "outputs": [],
      "source": [
        "from sklearn.model_selection import train_test_split "
      ]
    },
    {
      "cell_type": "code",
      "execution_count": 165,
      "id": "80dd16c1",
      "metadata": {
        "id": "80dd16c1"
      },
      "outputs": [],
      "source": [
        "X_train,X_test,y_train,y_test=train_test_split(x,y,test_size=0.30,random_state=1) "
      ]
    },
    {
      "cell_type": "code",
      "execution_count": 166,
      "id": "27b063b9",
      "metadata": {
        "colab": {
          "base_uri": "https://localhost:8080/",
          "height": 0
        },
        "id": "27b063b9",
        "outputId": "0c1b9a41-d2c6-406e-a6ed-99975316907f"
      },
      "outputs": [
        {
          "output_type": "execute_result",
          "data": {
            "text/plain": [
              "(89275, 21)"
            ]
          },
          "metadata": {},
          "execution_count": 166
        }
      ],
      "source": [
        "X_train.shape"
      ]
    },
    {
      "cell_type": "code",
      "execution_count": 167,
      "id": "e4d046f8",
      "metadata": {
        "colab": {
          "base_uri": "https://localhost:8080/",
          "height": 0
        },
        "id": "e4d046f8",
        "outputId": "027635fd-3d13-4ad7-c83b-2fd29e014272"
      },
      "outputs": [
        {
          "output_type": "execute_result",
          "data": {
            "text/plain": [
              "(38261, 21)"
            ]
          },
          "metadata": {},
          "execution_count": 167
        }
      ],
      "source": [
        "X_test.shape"
      ]
    },
    {
      "cell_type": "code",
      "execution_count": 168,
      "id": "f1cf3011",
      "metadata": {
        "colab": {
          "base_uri": "https://localhost:8080/",
          "height": 0
        },
        "id": "f1cf3011",
        "outputId": "be1d3839-50e0-4ecb-f648-288623c5c00f"
      },
      "outputs": [
        {
          "output_type": "execute_result",
          "data": {
            "text/plain": [
              "(89275,)"
            ]
          },
          "metadata": {},
          "execution_count": 168
        }
      ],
      "source": [
        "y_train.shape"
      ]
    },
    {
      "cell_type": "code",
      "execution_count": 169,
      "id": "56eb3039",
      "metadata": {
        "colab": {
          "base_uri": "https://localhost:8080/",
          "height": 0
        },
        "id": "56eb3039",
        "outputId": "be4f49fc-c93d-4f97-dc12-5d709c01ecf4"
      },
      "outputs": [
        {
          "output_type": "execute_result",
          "data": {
            "text/plain": [
              "(38261,)"
            ]
          },
          "metadata": {},
          "execution_count": 169
        }
      ],
      "source": [
        "y_test.shape"
      ]
    },
    {
      "cell_type": "code",
      "execution_count": 186,
      "id": "f0aec019",
      "metadata": {
        "id": "f0aec019"
      },
      "outputs": [],
      "source": [
        "from sklearn.metrics import classification_report,confusion_matrix\n"
      ]
    },
    {
      "cell_type": "code",
      "execution_count": 174,
      "id": "7b628112",
      "metadata": {
        "id": "7b628112"
      },
      "outputs": [],
      "source": [
        "import tensorflow as tf\n",
        "from tensorflow.keras import Sequential \n",
        "from tensorflow.keras.layers import Dense,Dropout\n",
        "from sklearn.metrics import classification_report \n",
        "from tensorflow.keras.callbacks import EarlyStopping"
      ]
    },
    {
      "cell_type": "code",
      "source": [],
      "metadata": {
        "id": "NgJ459_D5OjD"
      },
      "id": "NgJ459_D5OjD",
      "execution_count": null,
      "outputs": []
    },
    {
      "cell_type": "code",
      "execution_count": 175,
      "id": "343bb264",
      "metadata": {
        "id": "343bb264"
      },
      "outputs": [],
      "source": [
        "ann=Sequential()"
      ]
    },
    {
      "cell_type": "code",
      "source": [
        "early_stop=EarlyStopping(monitor=\"val_loss\",mode=\"min\",verbose=2,patience=30)"
      ],
      "metadata": {
        "id": "yWqoZ3Lua9u2"
      },
      "id": "yWqoZ3Lua9u2",
      "execution_count": 176,
      "outputs": []
    },
    {
      "cell_type": "code",
      "source": [
        "ann.add(Dense(units=32,activation=\"relu\")) \n",
        "ann.add(Dense(units=32,activation=\"relu\")) \n",
        "ann.add(Dense(units=16,activation=\"relu\"))\n",
        "ann.add(Dense(units=8,activation=\"relu\")) \n",
        "ann.add(Dense(units=1,activation=\"sigmoid\"))\n",
        "ann.compile(optimizer=\"Adam\",loss=\"binary_crossentropy\",metrics=[\"accuracy\"])\n",
        "history = ann.fit(X_train, y_train, batch_size = 32, epochs = 150, callbacks=[early_stop], validation_split=0.2)"
      ],
      "metadata": {
        "colab": {
          "base_uri": "https://localhost:8080/",
          "height": 0
        },
        "id": "rZhmRzBQeEo-",
        "outputId": "bb179c92-69c8-4030-e337-af013d65cedd"
      },
      "id": "rZhmRzBQeEo-",
      "execution_count": 177,
      "outputs": [
        {
          "output_type": "stream",
          "name": "stdout",
          "text": [
            "Epoch 1/150\n",
            "2232/2232 [==============================] - 10s 3ms/step - loss: 0.3728 - accuracy: 0.8375 - val_loss: 0.3584 - val_accuracy: 0.8454\n",
            "Epoch 2/150\n",
            "2232/2232 [==============================] - 9s 4ms/step - loss: 0.3566 - accuracy: 0.8463 - val_loss: 0.3530 - val_accuracy: 0.8489\n",
            "Epoch 3/150\n",
            "2232/2232 [==============================] - 7s 3ms/step - loss: 0.3521 - accuracy: 0.8484 - val_loss: 0.3468 - val_accuracy: 0.8506\n",
            "Epoch 4/150\n",
            "2232/2232 [==============================] - 9s 4ms/step - loss: 0.3494 - accuracy: 0.8501 - val_loss: 0.3458 - val_accuracy: 0.8509\n",
            "Epoch 5/150\n",
            "2232/2232 [==============================] - 7s 3ms/step - loss: 0.3468 - accuracy: 0.8509 - val_loss: 0.3427 - val_accuracy: 0.8509\n",
            "Epoch 6/150\n",
            "2232/2232 [==============================] - 9s 4ms/step - loss: 0.3447 - accuracy: 0.8519 - val_loss: 0.3406 - val_accuracy: 0.8514\n",
            "Epoch 7/150\n",
            "2232/2232 [==============================] - 7s 3ms/step - loss: 0.3433 - accuracy: 0.8524 - val_loss: 0.3423 - val_accuracy: 0.8522\n",
            "Epoch 8/150\n",
            "2232/2232 [==============================] - 11s 5ms/step - loss: 0.3419 - accuracy: 0.8527 - val_loss: 0.3413 - val_accuracy: 0.8520\n",
            "Epoch 9/150\n",
            "2232/2232 [==============================] - 7s 3ms/step - loss: 0.3405 - accuracy: 0.8543 - val_loss: 0.3429 - val_accuracy: 0.8539\n",
            "Epoch 10/150\n",
            "2232/2232 [==============================] - 9s 4ms/step - loss: 0.3393 - accuracy: 0.8537 - val_loss: 0.3404 - val_accuracy: 0.8519\n",
            "Epoch 11/150\n",
            "2232/2232 [==============================] - 6s 3ms/step - loss: 0.3378 - accuracy: 0.8556 - val_loss: 0.3403 - val_accuracy: 0.8529\n",
            "Epoch 12/150\n",
            "2232/2232 [==============================] - 10s 4ms/step - loss: 0.3372 - accuracy: 0.8560 - val_loss: 0.3409 - val_accuracy: 0.8528\n",
            "Epoch 13/150\n",
            "2232/2232 [==============================] - 7s 3ms/step - loss: 0.3362 - accuracy: 0.8566 - val_loss: 0.3397 - val_accuracy: 0.8545\n",
            "Epoch 14/150\n",
            "2232/2232 [==============================] - 10s 5ms/step - loss: 0.3355 - accuracy: 0.8566 - val_loss: 0.3401 - val_accuracy: 0.8533\n",
            "Epoch 15/150\n",
            "2232/2232 [==============================] - 6s 3ms/step - loss: 0.3346 - accuracy: 0.8569 - val_loss: 0.3424 - val_accuracy: 0.8530\n",
            "Epoch 16/150\n",
            "2232/2232 [==============================] - 9s 4ms/step - loss: 0.3339 - accuracy: 0.8578 - val_loss: 0.3419 - val_accuracy: 0.8530\n",
            "Epoch 17/150\n",
            "2232/2232 [==============================] - 6s 3ms/step - loss: 0.3330 - accuracy: 0.8582 - val_loss: 0.3414 - val_accuracy: 0.8531\n",
            "Epoch 18/150\n",
            "2232/2232 [==============================] - 9s 4ms/step - loss: 0.3327 - accuracy: 0.8583 - val_loss: 0.3412 - val_accuracy: 0.8515\n",
            "Epoch 19/150\n",
            "2232/2232 [==============================] - 7s 3ms/step - loss: 0.3315 - accuracy: 0.8587 - val_loss: 0.3419 - val_accuracy: 0.8542\n",
            "Epoch 20/150\n",
            "2232/2232 [==============================] - 10s 4ms/step - loss: 0.3312 - accuracy: 0.8582 - val_loss: 0.3411 - val_accuracy: 0.8526\n",
            "Epoch 21/150\n",
            "2232/2232 [==============================] - 8s 4ms/step - loss: 0.3306 - accuracy: 0.8586 - val_loss: 0.3417 - val_accuracy: 0.8538\n",
            "Epoch 22/150\n",
            "2232/2232 [==============================] - 9s 4ms/step - loss: 0.3300 - accuracy: 0.8590 - val_loss: 0.3431 - val_accuracy: 0.8523\n",
            "Epoch 23/150\n",
            "2232/2232 [==============================] - 7s 3ms/step - loss: 0.3294 - accuracy: 0.8597 - val_loss: 0.3446 - val_accuracy: 0.8545\n",
            "Epoch 24/150\n",
            "2232/2232 [==============================] - 9s 4ms/step - loss: 0.3287 - accuracy: 0.8601 - val_loss: 0.3460 - val_accuracy: 0.8505\n",
            "Epoch 25/150\n",
            "2232/2232 [==============================] - 7s 3ms/step - loss: 0.3286 - accuracy: 0.8600 - val_loss: 0.3415 - val_accuracy: 0.8540\n",
            "Epoch 26/150\n",
            "2232/2232 [==============================] - 10s 4ms/step - loss: 0.3280 - accuracy: 0.8607 - val_loss: 0.3429 - val_accuracy: 0.8515\n",
            "Epoch 27/150\n",
            "2232/2232 [==============================] - 7s 3ms/step - loss: 0.3275 - accuracy: 0.8602 - val_loss: 0.3413 - val_accuracy: 0.8535\n",
            "Epoch 28/150\n",
            "2232/2232 [==============================] - 9s 4ms/step - loss: 0.3269 - accuracy: 0.8601 - val_loss: 0.3426 - val_accuracy: 0.8540\n",
            "Epoch 29/150\n",
            "2232/2232 [==============================] - 7s 3ms/step - loss: 0.3261 - accuracy: 0.8612 - val_loss: 0.3425 - val_accuracy: 0.8534\n",
            "Epoch 30/150\n",
            "2232/2232 [==============================] - 10s 4ms/step - loss: 0.3255 - accuracy: 0.8620 - val_loss: 0.3433 - val_accuracy: 0.8520\n",
            "Epoch 31/150\n",
            "2232/2232 [==============================] - 7s 3ms/step - loss: 0.3257 - accuracy: 0.8624 - val_loss: 0.3452 - val_accuracy: 0.8524\n",
            "Epoch 32/150\n",
            "2232/2232 [==============================] - 9s 4ms/step - loss: 0.3246 - accuracy: 0.8616 - val_loss: 0.3450 - val_accuracy: 0.8511\n",
            "Epoch 33/150\n",
            "2232/2232 [==============================] - 7s 3ms/step - loss: 0.3245 - accuracy: 0.8622 - val_loss: 0.3455 - val_accuracy: 0.8505\n",
            "Epoch 34/150\n",
            "2232/2232 [==============================] - 10s 4ms/step - loss: 0.3243 - accuracy: 0.8615 - val_loss: 0.3445 - val_accuracy: 0.8527\n",
            "Epoch 35/150\n",
            "2232/2232 [==============================] - 7s 3ms/step - loss: 0.3235 - accuracy: 0.8630 - val_loss: 0.3428 - val_accuracy: 0.8524\n",
            "Epoch 36/150\n",
            "2232/2232 [==============================] - 10s 4ms/step - loss: 0.3232 - accuracy: 0.8618 - val_loss: 0.3440 - val_accuracy: 0.8540\n",
            "Epoch 37/150\n",
            "2232/2232 [==============================] - 7s 3ms/step - loss: 0.3228 - accuracy: 0.8631 - val_loss: 0.3458 - val_accuracy: 0.8504\n",
            "Epoch 38/150\n",
            "2232/2232 [==============================] - 10s 4ms/step - loss: 0.3225 - accuracy: 0.8631 - val_loss: 0.3447 - val_accuracy: 0.8505\n",
            "Epoch 39/150\n",
            "2232/2232 [==============================] - 7s 3ms/step - loss: 0.3220 - accuracy: 0.8635 - val_loss: 0.3454 - val_accuracy: 0.8533\n",
            "Epoch 40/150\n",
            "2232/2232 [==============================] - 10s 4ms/step - loss: 0.3220 - accuracy: 0.8627 - val_loss: 0.3448 - val_accuracy: 0.8529\n",
            "Epoch 41/150\n",
            "2232/2232 [==============================] - 7s 3ms/step - loss: 0.3209 - accuracy: 0.8637 - val_loss: 0.3493 - val_accuracy: 0.8504\n",
            "Epoch 42/150\n",
            "2232/2232 [==============================] - 10s 4ms/step - loss: 0.3210 - accuracy: 0.8637 - val_loss: 0.3434 - val_accuracy: 0.8533\n",
            "Epoch 43/150\n",
            "2232/2232 [==============================] - 7s 3ms/step - loss: 0.3205 - accuracy: 0.8635 - val_loss: 0.3442 - val_accuracy: 0.8528\n",
            "Epoch 43: early stopping\n"
          ]
        }
      ]
    },
    {
      "cell_type": "code",
      "source": [
        "history.history"
      ],
      "metadata": {
        "colab": {
          "base_uri": "https://localhost:8080/",
          "height": 0
        },
        "id": "XSk_CfU5hUgC",
        "outputId": "6b3eec59-e256-4757-ce34-6f1e3b2548ba"
      },
      "id": "XSk_CfU5hUgC",
      "execution_count": 178,
      "outputs": [
        {
          "output_type": "execute_result",
          "data": {
            "text/plain": [
              "{'loss': [0.37275123596191406,\n",
              "  0.3566243648529053,\n",
              "  0.3521355390548706,\n",
              "  0.3493831753730774,\n",
              "  0.3468388617038727,\n",
              "  0.34471046924591064,\n",
              "  0.3433418571949005,\n",
              "  0.3418823182582855,\n",
              "  0.340530127286911,\n",
              "  0.33932581543922424,\n",
              "  0.33782142400741577,\n",
              "  0.3372398614883423,\n",
              "  0.3361673653125763,\n",
              "  0.3354804515838623,\n",
              "  0.3346429169178009,\n",
              "  0.33389952778816223,\n",
              "  0.3330363631248474,\n",
              "  0.3326956629753113,\n",
              "  0.3315477669239044,\n",
              "  0.33116617798805237,\n",
              "  0.3305828273296356,\n",
              "  0.33002063632011414,\n",
              "  0.32943233847618103,\n",
              "  0.3286590874195099,\n",
              "  0.3285689055919647,\n",
              "  0.3279588520526886,\n",
              "  0.32745450735092163,\n",
              "  0.3269427716732025,\n",
              "  0.3260596990585327,\n",
              "  0.3255085051059723,\n",
              "  0.325732558965683,\n",
              "  0.32463714480400085,\n",
              "  0.32451653480529785,\n",
              "  0.3242626190185547,\n",
              "  0.3234972059726715,\n",
              "  0.32319751381874084,\n",
              "  0.3227898180484772,\n",
              "  0.32247382402420044,\n",
              "  0.3219861388206482,\n",
              "  0.32204124331474304,\n",
              "  0.3209042549133301,\n",
              "  0.32099488377571106,\n",
              "  0.3204740881919861],\n",
              " 'accuracy': [0.8375244736671448,\n",
              "  0.8462615609169006,\n",
              "  0.8483898043632507,\n",
              "  0.8500699996948242,\n",
              "  0.8509241342544556,\n",
              "  0.8518622517585754,\n",
              "  0.8524082899093628,\n",
              "  0.8526602983474731,\n",
              "  0.854312539100647,\n",
              "  0.8536544442176819,\n",
              "  0.8556146621704102,\n",
              "  0.855964720249176,\n",
              "  0.85655277967453,\n",
              "  0.8566228151321411,\n",
              "  0.8569168448448181,\n",
              "  0.8578269481658936,\n",
              "  0.8582469820976257,\n",
              "  0.8583030104637146,\n",
              "  0.858737051486969,\n",
              "  0.8582049608230591,\n",
              "  0.858625054359436,\n",
              "  0.8590030670166016,\n",
              "  0.8597451448440552,\n",
              "  0.8600671887397766,\n",
              "  0.860039234161377,\n",
              "  0.8607252836227417,\n",
              "  0.8602352142333984,\n",
              "  0.8601372241973877,\n",
              "  0.8611873388290405,\n",
              "  0.8619714379310608,\n",
              "  0.8623634576797485,\n",
              "  0.8615933656692505,\n",
              "  0.8621954917907715,\n",
              "  0.8614813685417175,\n",
              "  0.8630075454711914,\n",
              "  0.8618174195289612,\n",
              "  0.8631335496902466,\n",
              "  0.8631335496902466,\n",
              "  0.8634976148605347,\n",
              "  0.8626995086669922,\n",
              "  0.8636796474456787,\n",
              "  0.8636656403541565,\n",
              "  0.8635116219520569],\n",
              " 'val_loss': [0.35840868949890137,\n",
              "  0.35295480489730835,\n",
              "  0.34683558344841003,\n",
              "  0.3458482027053833,\n",
              "  0.34274721145629883,\n",
              "  0.34064343571662903,\n",
              "  0.3423086404800415,\n",
              "  0.34127748012542725,\n",
              "  0.3428798317909241,\n",
              "  0.3403685688972473,\n",
              "  0.3403022289276123,\n",
              "  0.3408968150615692,\n",
              "  0.3397071361541748,\n",
              "  0.3400721848011017,\n",
              "  0.34236934781074524,\n",
              "  0.34189078211784363,\n",
              "  0.3413538336753845,\n",
              "  0.3411908447742462,\n",
              "  0.34191620349884033,\n",
              "  0.3411490321159363,\n",
              "  0.34170955419540405,\n",
              "  0.34308502078056335,\n",
              "  0.34462282061576843,\n",
              "  0.34596413373947144,\n",
              "  0.3414774537086487,\n",
              "  0.3428512215614319,\n",
              "  0.3412790298461914,\n",
              "  0.3425631523132324,\n",
              "  0.34248116612434387,\n",
              "  0.3432656228542328,\n",
              "  0.34524646401405334,\n",
              "  0.3449520170688629,\n",
              "  0.3454868495464325,\n",
              "  0.3445240259170532,\n",
              "  0.34279507398605347,\n",
              "  0.3440392017364502,\n",
              "  0.34577593207359314,\n",
              "  0.34467437863349915,\n",
              "  0.34544122219085693,\n",
              "  0.34478670358657837,\n",
              "  0.34925490617752075,\n",
              "  0.343373566865921,\n",
              "  0.34423190355300903],\n",
              " 'val_accuracy': [0.8453654646873474,\n",
              "  0.8488938808441162,\n",
              "  0.8505740761756897,\n",
              "  0.8509101271629333,\n",
              "  0.8508540987968445,\n",
              "  0.851414144039154,\n",
              "  0.8521982431411743,\n",
              "  0.8519742488861084,\n",
              "  0.8539344668388367,\n",
              "  0.8519182205200195,\n",
              "  0.8528703451156616,\n",
              "  0.8527583479881287,\n",
              "  0.8544945120811462,\n",
              "  0.8532623648643494,\n",
              "  0.8530383706092834,\n",
              "  0.8530383706092834,\n",
              "  0.8530943989753723,\n",
              "  0.8515262007713318,\n",
              "  0.8541585206985474,\n",
              "  0.8526462912559509,\n",
              "  0.8537664413452148,\n",
              "  0.852310299873352,\n",
              "  0.8544945120811462,\n",
              "  0.8505180478096008,\n",
              "  0.8540464639663696,\n",
              "  0.8515262007713318,\n",
              "  0.8535424470901489,\n",
              "  0.8539904952049255,\n",
              "  0.8534303903579712,\n",
              "  0.8520302176475525,\n",
              "  0.8523662686347961,\n",
              "  0.8511341214179993,\n",
              "  0.8505180478096008,\n",
              "  0.8527023196220398,\n",
              "  0.852422297000885,\n",
              "  0.8539904952049255,\n",
              "  0.850350022315979,\n",
              "  0.8505180478096008,\n",
              "  0.8533183932304382,\n",
              "  0.8528703451156616,\n",
              "  0.8504060506820679,\n",
              "  0.8532623648643494,\n",
              "  0.8528143167495728]}"
            ]
          },
          "metadata": {},
          "execution_count": 178
        }
      ]
    },
    {
      "cell_type": "code",
      "source": [
        "loss_df=pd.DataFrame(history.history)\n",
        "loss_df\n"
      ],
      "metadata": {
        "colab": {
          "base_uri": "https://localhost:8080/",
          "height": 1397
        },
        "id": "e9Qt9EecrD58",
        "outputId": "7c90cb21-bacf-4760-e374-9a0d7c9f01cd"
      },
      "id": "e9Qt9EecrD58",
      "execution_count": 179,
      "outputs": [
        {
          "output_type": "execute_result",
          "data": {
            "text/plain": [
              "        loss  accuracy  val_loss  val_accuracy\n",
              "0   0.372751  0.837524  0.358409      0.845365\n",
              "1   0.356624  0.846262  0.352955      0.848894\n",
              "2   0.352136  0.848390  0.346836      0.850574\n",
              "3   0.349383  0.850070  0.345848      0.850910\n",
              "4   0.346839  0.850924  0.342747      0.850854\n",
              "5   0.344710  0.851862  0.340643      0.851414\n",
              "6   0.343342  0.852408  0.342309      0.852198\n",
              "7   0.341882  0.852660  0.341277      0.851974\n",
              "8   0.340530  0.854313  0.342880      0.853934\n",
              "9   0.339326  0.853654  0.340369      0.851918\n",
              "10  0.337821  0.855615  0.340302      0.852870\n",
              "11  0.337240  0.855965  0.340897      0.852758\n",
              "12  0.336167  0.856553  0.339707      0.854495\n",
              "13  0.335480  0.856623  0.340072      0.853262\n",
              "14  0.334643  0.856917  0.342369      0.853038\n",
              "15  0.333900  0.857827  0.341891      0.853038\n",
              "16  0.333036  0.858247  0.341354      0.853094\n",
              "17  0.332696  0.858303  0.341191      0.851526\n",
              "18  0.331548  0.858737  0.341916      0.854159\n",
              "19  0.331166  0.858205  0.341149      0.852646\n",
              "20  0.330583  0.858625  0.341710      0.853766\n",
              "21  0.330021  0.859003  0.343085      0.852310\n",
              "22  0.329432  0.859745  0.344623      0.854495\n",
              "23  0.328659  0.860067  0.345964      0.850518\n",
              "24  0.328569  0.860039  0.341477      0.854046\n",
              "25  0.327959  0.860725  0.342851      0.851526\n",
              "26  0.327455  0.860235  0.341279      0.853542\n",
              "27  0.326943  0.860137  0.342563      0.853990\n",
              "28  0.326060  0.861187  0.342481      0.853430\n",
              "29  0.325509  0.861971  0.343266      0.852030\n",
              "30  0.325733  0.862363  0.345246      0.852366\n",
              "31  0.324637  0.861593  0.344952      0.851134\n",
              "32  0.324517  0.862195  0.345487      0.850518\n",
              "33  0.324263  0.861481  0.344524      0.852702\n",
              "34  0.323497  0.863008  0.342795      0.852422\n",
              "35  0.323198  0.861817  0.344039      0.853990\n",
              "36  0.322790  0.863134  0.345776      0.850350\n",
              "37  0.322474  0.863134  0.344674      0.850518\n",
              "38  0.321986  0.863498  0.345441      0.853318\n",
              "39  0.322041  0.862700  0.344787      0.852870\n",
              "40  0.320904  0.863680  0.349255      0.850406\n",
              "41  0.320995  0.863666  0.343374      0.853262\n",
              "42  0.320474  0.863512  0.344232      0.852814"
            ],
            "text/html": [
              "\n",
              "  <div id=\"df-c2410024-4ad3-4736-9746-a2996ef33d89\">\n",
              "    <div class=\"colab-df-container\">\n",
              "      <div>\n",
              "<style scoped>\n",
              "    .dataframe tbody tr th:only-of-type {\n",
              "        vertical-align: middle;\n",
              "    }\n",
              "\n",
              "    .dataframe tbody tr th {\n",
              "        vertical-align: top;\n",
              "    }\n",
              "\n",
              "    .dataframe thead th {\n",
              "        text-align: right;\n",
              "    }\n",
              "</style>\n",
              "<table border=\"1\" class=\"dataframe\">\n",
              "  <thead>\n",
              "    <tr style=\"text-align: right;\">\n",
              "      <th></th>\n",
              "      <th>loss</th>\n",
              "      <th>accuracy</th>\n",
              "      <th>val_loss</th>\n",
              "      <th>val_accuracy</th>\n",
              "    </tr>\n",
              "  </thead>\n",
              "  <tbody>\n",
              "    <tr>\n",
              "      <th>0</th>\n",
              "      <td>0.372751</td>\n",
              "      <td>0.837524</td>\n",
              "      <td>0.358409</td>\n",
              "      <td>0.845365</td>\n",
              "    </tr>\n",
              "    <tr>\n",
              "      <th>1</th>\n",
              "      <td>0.356624</td>\n",
              "      <td>0.846262</td>\n",
              "      <td>0.352955</td>\n",
              "      <td>0.848894</td>\n",
              "    </tr>\n",
              "    <tr>\n",
              "      <th>2</th>\n",
              "      <td>0.352136</td>\n",
              "      <td>0.848390</td>\n",
              "      <td>0.346836</td>\n",
              "      <td>0.850574</td>\n",
              "    </tr>\n",
              "    <tr>\n",
              "      <th>3</th>\n",
              "      <td>0.349383</td>\n",
              "      <td>0.850070</td>\n",
              "      <td>0.345848</td>\n",
              "      <td>0.850910</td>\n",
              "    </tr>\n",
              "    <tr>\n",
              "      <th>4</th>\n",
              "      <td>0.346839</td>\n",
              "      <td>0.850924</td>\n",
              "      <td>0.342747</td>\n",
              "      <td>0.850854</td>\n",
              "    </tr>\n",
              "    <tr>\n",
              "      <th>5</th>\n",
              "      <td>0.344710</td>\n",
              "      <td>0.851862</td>\n",
              "      <td>0.340643</td>\n",
              "      <td>0.851414</td>\n",
              "    </tr>\n",
              "    <tr>\n",
              "      <th>6</th>\n",
              "      <td>0.343342</td>\n",
              "      <td>0.852408</td>\n",
              "      <td>0.342309</td>\n",
              "      <td>0.852198</td>\n",
              "    </tr>\n",
              "    <tr>\n",
              "      <th>7</th>\n",
              "      <td>0.341882</td>\n",
              "      <td>0.852660</td>\n",
              "      <td>0.341277</td>\n",
              "      <td>0.851974</td>\n",
              "    </tr>\n",
              "    <tr>\n",
              "      <th>8</th>\n",
              "      <td>0.340530</td>\n",
              "      <td>0.854313</td>\n",
              "      <td>0.342880</td>\n",
              "      <td>0.853934</td>\n",
              "    </tr>\n",
              "    <tr>\n",
              "      <th>9</th>\n",
              "      <td>0.339326</td>\n",
              "      <td>0.853654</td>\n",
              "      <td>0.340369</td>\n",
              "      <td>0.851918</td>\n",
              "    </tr>\n",
              "    <tr>\n",
              "      <th>10</th>\n",
              "      <td>0.337821</td>\n",
              "      <td>0.855615</td>\n",
              "      <td>0.340302</td>\n",
              "      <td>0.852870</td>\n",
              "    </tr>\n",
              "    <tr>\n",
              "      <th>11</th>\n",
              "      <td>0.337240</td>\n",
              "      <td>0.855965</td>\n",
              "      <td>0.340897</td>\n",
              "      <td>0.852758</td>\n",
              "    </tr>\n",
              "    <tr>\n",
              "      <th>12</th>\n",
              "      <td>0.336167</td>\n",
              "      <td>0.856553</td>\n",
              "      <td>0.339707</td>\n",
              "      <td>0.854495</td>\n",
              "    </tr>\n",
              "    <tr>\n",
              "      <th>13</th>\n",
              "      <td>0.335480</td>\n",
              "      <td>0.856623</td>\n",
              "      <td>0.340072</td>\n",
              "      <td>0.853262</td>\n",
              "    </tr>\n",
              "    <tr>\n",
              "      <th>14</th>\n",
              "      <td>0.334643</td>\n",
              "      <td>0.856917</td>\n",
              "      <td>0.342369</td>\n",
              "      <td>0.853038</td>\n",
              "    </tr>\n",
              "    <tr>\n",
              "      <th>15</th>\n",
              "      <td>0.333900</td>\n",
              "      <td>0.857827</td>\n",
              "      <td>0.341891</td>\n",
              "      <td>0.853038</td>\n",
              "    </tr>\n",
              "    <tr>\n",
              "      <th>16</th>\n",
              "      <td>0.333036</td>\n",
              "      <td>0.858247</td>\n",
              "      <td>0.341354</td>\n",
              "      <td>0.853094</td>\n",
              "    </tr>\n",
              "    <tr>\n",
              "      <th>17</th>\n",
              "      <td>0.332696</td>\n",
              "      <td>0.858303</td>\n",
              "      <td>0.341191</td>\n",
              "      <td>0.851526</td>\n",
              "    </tr>\n",
              "    <tr>\n",
              "      <th>18</th>\n",
              "      <td>0.331548</td>\n",
              "      <td>0.858737</td>\n",
              "      <td>0.341916</td>\n",
              "      <td>0.854159</td>\n",
              "    </tr>\n",
              "    <tr>\n",
              "      <th>19</th>\n",
              "      <td>0.331166</td>\n",
              "      <td>0.858205</td>\n",
              "      <td>0.341149</td>\n",
              "      <td>0.852646</td>\n",
              "    </tr>\n",
              "    <tr>\n",
              "      <th>20</th>\n",
              "      <td>0.330583</td>\n",
              "      <td>0.858625</td>\n",
              "      <td>0.341710</td>\n",
              "      <td>0.853766</td>\n",
              "    </tr>\n",
              "    <tr>\n",
              "      <th>21</th>\n",
              "      <td>0.330021</td>\n",
              "      <td>0.859003</td>\n",
              "      <td>0.343085</td>\n",
              "      <td>0.852310</td>\n",
              "    </tr>\n",
              "    <tr>\n",
              "      <th>22</th>\n",
              "      <td>0.329432</td>\n",
              "      <td>0.859745</td>\n",
              "      <td>0.344623</td>\n",
              "      <td>0.854495</td>\n",
              "    </tr>\n",
              "    <tr>\n",
              "      <th>23</th>\n",
              "      <td>0.328659</td>\n",
              "      <td>0.860067</td>\n",
              "      <td>0.345964</td>\n",
              "      <td>0.850518</td>\n",
              "    </tr>\n",
              "    <tr>\n",
              "      <th>24</th>\n",
              "      <td>0.328569</td>\n",
              "      <td>0.860039</td>\n",
              "      <td>0.341477</td>\n",
              "      <td>0.854046</td>\n",
              "    </tr>\n",
              "    <tr>\n",
              "      <th>25</th>\n",
              "      <td>0.327959</td>\n",
              "      <td>0.860725</td>\n",
              "      <td>0.342851</td>\n",
              "      <td>0.851526</td>\n",
              "    </tr>\n",
              "    <tr>\n",
              "      <th>26</th>\n",
              "      <td>0.327455</td>\n",
              "      <td>0.860235</td>\n",
              "      <td>0.341279</td>\n",
              "      <td>0.853542</td>\n",
              "    </tr>\n",
              "    <tr>\n",
              "      <th>27</th>\n",
              "      <td>0.326943</td>\n",
              "      <td>0.860137</td>\n",
              "      <td>0.342563</td>\n",
              "      <td>0.853990</td>\n",
              "    </tr>\n",
              "    <tr>\n",
              "      <th>28</th>\n",
              "      <td>0.326060</td>\n",
              "      <td>0.861187</td>\n",
              "      <td>0.342481</td>\n",
              "      <td>0.853430</td>\n",
              "    </tr>\n",
              "    <tr>\n",
              "      <th>29</th>\n",
              "      <td>0.325509</td>\n",
              "      <td>0.861971</td>\n",
              "      <td>0.343266</td>\n",
              "      <td>0.852030</td>\n",
              "    </tr>\n",
              "    <tr>\n",
              "      <th>30</th>\n",
              "      <td>0.325733</td>\n",
              "      <td>0.862363</td>\n",
              "      <td>0.345246</td>\n",
              "      <td>0.852366</td>\n",
              "    </tr>\n",
              "    <tr>\n",
              "      <th>31</th>\n",
              "      <td>0.324637</td>\n",
              "      <td>0.861593</td>\n",
              "      <td>0.344952</td>\n",
              "      <td>0.851134</td>\n",
              "    </tr>\n",
              "    <tr>\n",
              "      <th>32</th>\n",
              "      <td>0.324517</td>\n",
              "      <td>0.862195</td>\n",
              "      <td>0.345487</td>\n",
              "      <td>0.850518</td>\n",
              "    </tr>\n",
              "    <tr>\n",
              "      <th>33</th>\n",
              "      <td>0.324263</td>\n",
              "      <td>0.861481</td>\n",
              "      <td>0.344524</td>\n",
              "      <td>0.852702</td>\n",
              "    </tr>\n",
              "    <tr>\n",
              "      <th>34</th>\n",
              "      <td>0.323497</td>\n",
              "      <td>0.863008</td>\n",
              "      <td>0.342795</td>\n",
              "      <td>0.852422</td>\n",
              "    </tr>\n",
              "    <tr>\n",
              "      <th>35</th>\n",
              "      <td>0.323198</td>\n",
              "      <td>0.861817</td>\n",
              "      <td>0.344039</td>\n",
              "      <td>0.853990</td>\n",
              "    </tr>\n",
              "    <tr>\n",
              "      <th>36</th>\n",
              "      <td>0.322790</td>\n",
              "      <td>0.863134</td>\n",
              "      <td>0.345776</td>\n",
              "      <td>0.850350</td>\n",
              "    </tr>\n",
              "    <tr>\n",
              "      <th>37</th>\n",
              "      <td>0.322474</td>\n",
              "      <td>0.863134</td>\n",
              "      <td>0.344674</td>\n",
              "      <td>0.850518</td>\n",
              "    </tr>\n",
              "    <tr>\n",
              "      <th>38</th>\n",
              "      <td>0.321986</td>\n",
              "      <td>0.863498</td>\n",
              "      <td>0.345441</td>\n",
              "      <td>0.853318</td>\n",
              "    </tr>\n",
              "    <tr>\n",
              "      <th>39</th>\n",
              "      <td>0.322041</td>\n",
              "      <td>0.862700</td>\n",
              "      <td>0.344787</td>\n",
              "      <td>0.852870</td>\n",
              "    </tr>\n",
              "    <tr>\n",
              "      <th>40</th>\n",
              "      <td>0.320904</td>\n",
              "      <td>0.863680</td>\n",
              "      <td>0.349255</td>\n",
              "      <td>0.850406</td>\n",
              "    </tr>\n",
              "    <tr>\n",
              "      <th>41</th>\n",
              "      <td>0.320995</td>\n",
              "      <td>0.863666</td>\n",
              "      <td>0.343374</td>\n",
              "      <td>0.853262</td>\n",
              "    </tr>\n",
              "    <tr>\n",
              "      <th>42</th>\n",
              "      <td>0.320474</td>\n",
              "      <td>0.863512</td>\n",
              "      <td>0.344232</td>\n",
              "      <td>0.852814</td>\n",
              "    </tr>\n",
              "  </tbody>\n",
              "</table>\n",
              "</div>\n",
              "      <button class=\"colab-df-convert\" onclick=\"convertToInteractive('df-c2410024-4ad3-4736-9746-a2996ef33d89')\"\n",
              "              title=\"Convert this dataframe to an interactive table.\"\n",
              "              style=\"display:none;\">\n",
              "        \n",
              "  <svg xmlns=\"http://www.w3.org/2000/svg\" height=\"24px\"viewBox=\"0 0 24 24\"\n",
              "       width=\"24px\">\n",
              "    <path d=\"M0 0h24v24H0V0z\" fill=\"none\"/>\n",
              "    <path d=\"M18.56 5.44l.94 2.06.94-2.06 2.06-.94-2.06-.94-.94-2.06-.94 2.06-2.06.94zm-11 1L8.5 8.5l.94-2.06 2.06-.94-2.06-.94L8.5 2.5l-.94 2.06-2.06.94zm10 10l.94 2.06.94-2.06 2.06-.94-2.06-.94-.94-2.06-.94 2.06-2.06.94z\"/><path d=\"M17.41 7.96l-1.37-1.37c-.4-.4-.92-.59-1.43-.59-.52 0-1.04.2-1.43.59L10.3 9.45l-7.72 7.72c-.78.78-.78 2.05 0 2.83L4 21.41c.39.39.9.59 1.41.59.51 0 1.02-.2 1.41-.59l7.78-7.78 2.81-2.81c.8-.78.8-2.07 0-2.86zM5.41 20L4 18.59l7.72-7.72 1.47 1.35L5.41 20z\"/>\n",
              "  </svg>\n",
              "      </button>\n",
              "      \n",
              "  <style>\n",
              "    .colab-df-container {\n",
              "      display:flex;\n",
              "      flex-wrap:wrap;\n",
              "      gap: 12px;\n",
              "    }\n",
              "\n",
              "    .colab-df-convert {\n",
              "      background-color: #E8F0FE;\n",
              "      border: none;\n",
              "      border-radius: 50%;\n",
              "      cursor: pointer;\n",
              "      display: none;\n",
              "      fill: #1967D2;\n",
              "      height: 32px;\n",
              "      padding: 0 0 0 0;\n",
              "      width: 32px;\n",
              "    }\n",
              "\n",
              "    .colab-df-convert:hover {\n",
              "      background-color: #E2EBFA;\n",
              "      box-shadow: 0px 1px 2px rgba(60, 64, 67, 0.3), 0px 1px 3px 1px rgba(60, 64, 67, 0.15);\n",
              "      fill: #174EA6;\n",
              "    }\n",
              "\n",
              "    [theme=dark] .colab-df-convert {\n",
              "      background-color: #3B4455;\n",
              "      fill: #D2E3FC;\n",
              "    }\n",
              "\n",
              "    [theme=dark] .colab-df-convert:hover {\n",
              "      background-color: #434B5C;\n",
              "      box-shadow: 0px 1px 3px 1px rgba(0, 0, 0, 0.15);\n",
              "      filter: drop-shadow(0px 1px 2px rgba(0, 0, 0, 0.3));\n",
              "      fill: #FFFFFF;\n",
              "    }\n",
              "  </style>\n",
              "\n",
              "      <script>\n",
              "        const buttonEl =\n",
              "          document.querySelector('#df-c2410024-4ad3-4736-9746-a2996ef33d89 button.colab-df-convert');\n",
              "        buttonEl.style.display =\n",
              "          google.colab.kernel.accessAllowed ? 'block' : 'none';\n",
              "\n",
              "        async function convertToInteractive(key) {\n",
              "          const element = document.querySelector('#df-c2410024-4ad3-4736-9746-a2996ef33d89');\n",
              "          const dataTable =\n",
              "            await google.colab.kernel.invokeFunction('convertToInteractive',\n",
              "                                                     [key], {});\n",
              "          if (!dataTable) return;\n",
              "\n",
              "          const docLinkHtml = 'Like what you see? Visit the ' +\n",
              "            '<a target=\"_blank\" href=https://colab.research.google.com/notebooks/data_table.ipynb>data table notebook</a>'\n",
              "            + ' to learn more about interactive tables.';\n",
              "          element.innerHTML = '';\n",
              "          dataTable['output_type'] = 'display_data';\n",
              "          await google.colab.output.renderOutput(dataTable, element);\n",
              "          const docLink = document.createElement('div');\n",
              "          docLink.innerHTML = docLinkHtml;\n",
              "          element.appendChild(docLink);\n",
              "        }\n",
              "      </script>\n",
              "    </div>\n",
              "  </div>\n",
              "  "
            ]
          },
          "metadata": {},
          "execution_count": 179
        }
      ]
    },
    {
      "cell_type": "code",
      "source": [
        "plt.figure(figsize=(10,10))\n",
        "plt.plot(loss_df)"
      ],
      "metadata": {
        "colab": {
          "base_uri": "https://localhost:8080/",
          "height": 661
        },
        "id": "otuxnRRKrRPX",
        "outputId": "6650b799-ecf6-4100-d21c-b6823ea80faf"
      },
      "id": "otuxnRRKrRPX",
      "execution_count": 180,
      "outputs": [
        {
          "output_type": "execute_result",
          "data": {
            "text/plain": [
              "[<matplotlib.lines.Line2D at 0x7f486562fcd0>,\n",
              " <matplotlib.lines.Line2D at 0x7f486562fd30>,\n",
              " <matplotlib.lines.Line2D at 0x7f486562fe50>,\n",
              " <matplotlib.lines.Line2D at 0x7f486562ff70>]"
            ]
          },
          "metadata": {},
          "execution_count": 180
        },
        {
          "output_type": "display_data",
          "data": {
            "text/plain": [
              "<Figure size 720x720 with 1 Axes>"
            ],
            "image/png": "[encoded data removed]"
          },
          "metadata": {}
        }
      ]
    },
    {
      "cell_type": "code",
      "source": [
        "y_pred=ann.predict(X_test)"
      ],
      "metadata": {
        "colab": {
          "base_uri": "https://localhost:8080/",
          "height": 0
        },
        "id": "wFZKF-CzrXwk",
        "outputId": "f1f4a4bd-91a2-4887-c270-06761d226aa7"
      },
      "id": "wFZKF-CzrXwk",
      "execution_count": 181,
      "outputs": [
        {
          "output_type": "stream",
          "name": "stdout",
          "text": [
            "1196/1196 [==============================] - 3s 3ms/step\n"
          ]
        }
      ]
    },
    {
      "cell_type": "code",
      "source": [
        "y_pred"
      ],
      "metadata": {
        "colab": {
          "base_uri": "https://localhost:8080/",
          "height": 0
        },
        "id": "nb_XyCqwsmjg",
        "outputId": "b5f3667e-2211-46c0-b2a7-049c3777efff"
      },
      "id": "nb_XyCqwsmjg",
      "execution_count": 182,
      "outputs": [
        {
          "output_type": "execute_result",
          "data": {
            "text/plain": [
              "array([[0.006885  ],\n",
              "       [0.00321977],\n",
              "       [0.0277841 ],\n",
              "       ...,\n",
              "       [0.04037146],\n",
              "       [0.9268776 ],\n",
              "       [0.04159674]], dtype=float32)"
            ]
          },
          "metadata": {},
          "execution_count": 182
        }
      ]
    },
    {
      "cell_type": "code",
      "source": [
        "y_pred=np.where(y_pred<0.5,0,1)"
      ],
      "metadata": {
        "id": "0fB1VnyDtaf4"
      },
      "id": "0fB1VnyDtaf4",
      "execution_count": 183,
      "outputs": []
    },
    {
      "cell_type": "code",
      "source": [
        "print(classification_report(y_test,y_pred))"
      ],
      "metadata": {
        "colab": {
          "base_uri": "https://localhost:8080/",
          "height": 0
        },
        "id": "phm4hW52thls",
        "outputId": "31fc8ae0-a82b-4fdd-84a6-daf687e2593d"
      },
      "id": "phm4hW52thls",
      "execution_count": 184,
      "outputs": [
        {
          "output_type": "stream",
          "name": "stdout",
          "text": [
            "              precision    recall  f1-score   support\n",
            "\n",
            "           0       0.87      0.94      0.91     30065\n",
            "           1       0.71      0.50      0.59      8196\n",
            "\n",
            "    accuracy                           0.85     38261\n",
            "   macro avg       0.79      0.72      0.75     38261\n",
            "weighted avg       0.84      0.85      0.84     38261\n",
            "\n"
          ]
        }
      ]
    },
    {
      "cell_type": "code",
      "source": [
        "# confusion matrix\n",
        "cmap1 = sns.diverging_palette(260,-10,s=50, l=75, n=5, as_cmap=True)\n",
        "plt.subplots(figsize=(12,8))\n",
        "cf_matrix = confusion_matrix(y_test, y_pred)\n",
        "sns.heatmap(cf_matrix/np.sum(cf_matrix), cmap = cmap1, annot = True, annot_kws = {'size':15})"
      ],
      "metadata": {
        "colab": {
          "base_uri": "https://localhost:8080/",
          "height": 500
        },
        "id": "MPaPRTS2tpQb",
        "outputId": "31dff187-6842-4a62-b8fc-68bb79f441ed"
      },
      "id": "MPaPRTS2tpQb",
      "execution_count": 185,
      "outputs": [
        {
          "output_type": "execute_result",
          "data": {
            "text/plain": [
              "<AxesSubplot:>"
            ]
          },
          "metadata": {},
          "execution_count": 185
        },
        {
          "output_type": "display_data",
          "data": {
            "text/plain": [
              "<Figure size 864x576 with 2 Axes>"
            ],
            "image/png": "[encoded data removed]"
          },
          "metadata": {}
        }
      ]
    },
    {
      "cell_type": "markdown",
      "source": [
        "# This shows that Model has Good True positive Rate\n",
        "\n",
        "\n",
        "---\n",
        "\n",
        "\n",
        "\n",
        "---\n",
        "\n"
      ],
      "metadata": {
        "id": "9Hp_aSTW6rMa"
      },
      "id": "9Hp_aSTW6rMa"
    }
  ],
  "metadata": {
    "kernelspec": {
      "display_name": "Python 3 (ipykernel)",
      "language": "python",
      "name": "python3"
    },
    "language_info": {
      "codemirror_mode": {
        "name": "ipython",
        "version": 3
      },
      "file_extension": ".py",
      "mimetype": "text/x-python",
      "name": "python",
      "nbconvert_exporter": "python",
      "pygments_lexer": "ipython3",
      "version": "3.10.2"
    },
    "colab": {
      "provenance": []
    },
    "accelerator": "TPU",
    "gpuClass": "standard"
  },
  "nbformat": 4,
  "nbformat_minor": 5
}